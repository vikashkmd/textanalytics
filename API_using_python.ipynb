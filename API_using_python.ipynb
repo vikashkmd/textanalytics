{
  "nbformat": 4,
  "nbformat_minor": 0,
  "metadata": {
    "colab": {
      "name": "API using python",
      "provenance": [],
      "collapsed_sections": [],
      "authorship_tag": "ABX9TyNRazr0+ORnFUpZEMKf3Wxt",
      "include_colab_link": true
    },
    "kernelspec": {
      "name": "python3",
      "display_name": "Python 3"
    },
    "language_info": {
      "name": "python"
    }
  },
  "cells": [
    {
      "cell_type": "markdown",
      "metadata": {
        "id": "view-in-github",
        "colab_type": "text"
      },
      "source": [
        "<a href=\"https://colab.research.google.com/github/vikashkmd/textanalytics/blob/master/API_using_python.ipynb\" target=\"_parent\"><img src=\"https://colab.research.google.com/assets/colab-badge.svg\" alt=\"Open In Colab\"/></a>"
      ]
    },
    {
      "cell_type": "code",
      "metadata": {
        "id": "S5AeCPB73q7R"
      },
      "source": [
        "import requests\n"
      ],
      "execution_count": 1,
      "outputs": []
    },
    {
      "cell_type": "code",
      "metadata": {
        "colab": {
          "base_uri": "https://localhost:8080/",
          "height": 137
        },
        "id": "jaLWMymd3zJ3",
        "outputId": "be647656-72ba-4742-bf4c-d5ca7b36a5e6"
      },
      "source": [
        "response = requests.get(\"https://randomuser.me/api/\")\n",
        "response.text"
      ],
      "execution_count": 2,
      "outputs": [
        {
          "output_type": "execute_result",
          "data": {
            "application/vnd.google.colaboratory.intrinsic+json": {
              "type": "string"
            },
            "text/plain": [
              "'{\"results\":[{\"gender\":\"male\",\"name\":{\"title\":\"Mr\",\"first\":\"Marek\",\"last\":\"Brunsveld\"},\"location\":{\"street\":{\"number\":7812,\"name\":\"Govert Flinckstraat\"},\"city\":\"Sluiskil\",\"state\":\"Zuid-Holland\",\"country\":\"Netherlands\",\"postcode\":90459,\"coordinates\":{\"latitude\":\"46.1803\",\"longitude\":\"-88.2701\"},\"timezone\":{\"offset\":\"+4:00\",\"description\":\"Abu Dhabi, Muscat, Baku, Tbilisi\"}},\"email\":\"marek.brunsveld@example.com\",\"login\":{\"uuid\":\"91ac9cee-8ebc-41e3-8361-1080f37d558b\",\"username\":\"happybutterfly174\",\"password\":\"chevys\",\"salt\":\"H4UUf4nV\",\"md5\":\"be1b97121b47c586d7c26a6aaf1a6038\",\"sha1\":\"ca843254b6ce0f97e20728602601233b52916268\",\"sha256\":\"12d51f40c2ae6c93b71619f31a2bf573cc8a94e3175a1fcd5c7f8e699e9d8886\"},\"dob\":{\"date\":\"1946-08-10T22:22:35.259Z\",\"age\":75},\"registered\":{\"date\":\"2011-02-09T22:30:29.365Z\",\"age\":10},\"phone\":\"(914)-833-5766\",\"cell\":\"(238)-871-8965\",\"id\":{\"name\":\"BSN\",\"value\":\"18187249\"},\"picture\":{\"large\":\"https://randomuser.me/api/portraits/men/6.jpg\",\"medium\":\"https://randomuser.me/api/portraits/med/men/6.jpg\",\"thumbnail\":\"https://randomuser.me/api/portraits/thumb/men/6.jpg\"},\"nat\":\"NL\"}],\"info\":{\"seed\":\"b1b53eb39b786a15\",\"results\":1,\"page\":1,\"version\":\"1.3\"}}'"
            ]
          },
          "metadata": {},
          "execution_count": 2
        }
      ]
    },
    {
      "cell_type": "code",
      "metadata": {
        "colab": {
          "base_uri": "https://localhost:8080/",
          "height": 35
        },
        "id": "V2e8JKY-RkV0",
        "outputId": "57691249-fcf9-4dd4-8024-0554bc997925"
      },
      "source": [
        "response = requests.get(\"https://api.thedogapi.com/\")\n",
        "response.text"
      ],
      "execution_count": 3,
      "outputs": [
        {
          "output_type": "execute_result",
          "data": {
            "application/vnd.google.colaboratory.intrinsic+json": {
              "type": "string"
            },
            "text/plain": [
              "'{\"message\":\"The Dog API\"}'"
            ]
          },
          "metadata": {},
          "execution_count": 3
        }
      ]
    }
  ]
}